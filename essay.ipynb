{
 "cells": [
  {
   "cell_type": "code",
   "execution_count": 1,
   "metadata": {},
   "outputs": [],
   "source": [
    "%load_ext autoreload\n",
    "%autoreload 2"
   ]
  },
  {
   "cell_type": "markdown",
   "metadata": {},
   "source": [
    "Question: How does the frequency of song title in lyrics effect top 100 billboard ranking?"
   ]
  },
  {
   "cell_type": "markdown",
   "metadata": {},
   "source": [
    "# Introduction #\n",
    "In the introduction, you should aim to tell the reader what your project is about. In doing so, you should answer the following questions:\n",
    "\n",
    "What is the question you are trying to answer or the story that you are trying you tell?\n",
    "Why is this question or story important?\n",
    "What were the main steps your project made towards answering the question or telling the story?\n",
    "Beyond answering these questions, you are free to structure this section however you wish.\n",
    "\n",
    "# Methodology #\n",
    "In the methodology, you should explain how you obtained, processed, and summarized or visualized the data. In doing so, you should answer the following questions:\n",
    "\n",
    "Where did you get your data from?\n",
    "How did you get this data (i.e., did you programmatically download it or did you access it through an API)?\n",
    "How did you store and/or process this data (e.g., did you store and process it in Pandas)?\n",
    "What information did you get from this data that you used in the presentation of your results?\n",
    "# Results #\n",
    "In the results, you should show the main summaries or visualizations of your data, along with any accompanying information. In doing so, you should answer the following questions:\n",
    "\n",
    "What summaries or visualizations did you create?\n",
    "What are the interesting and/or important parts of these summaries or visualizations?\n",
    "How do these results answer your questions or tell your story?\n",
    "# Conclusion #\n",
    "In the conclusion, you should provide key takeaways for the reader. In doing so, you should answer the following questions, where applicable:\n",
    "\n",
    "What are the important insights that the reader should get from this project?\n",
    "What are the contextual or ethical implications of your topic or work?\n",
    "What lessons did you learn as you did the project?\n",
    "What were the most difficult, challenging, or frustrating parts of the project?\n",
    "In what ways would you extend or change your project if you had more time?"
   ]
  },
  {
   "cell_type": "markdown",
   "metadata": {},
   "source": [
    "# Introduction #\n",
    "Music is a source of expression, artistic ingenuity, and entertainment cross culturally. The vast majority of the world listens to music and estimations of about 80-90% of the world listens to some form of music. This means each billboard top 100 song is widely popular, but why is that? We believe there are underlining conditions that make songs more popular than others. When looking at the top 100 songs we realized most of the songs had catchy, repetitive lyrics to them and amoung those lyrics was the title of the song nested inside. Thus, our question for the project was created. How does the frequency of a song title in its lyrics effect top 100 billboard ranking? Of course, there are probably many other underlining conditions that we can later test for, but for the scope of this project we wanted to get a really good sense the influence of one. This question is important because we produce data that music artists can use to see what the trends of song titles in their lyrics are. The billboard top 100 songs of the year are ideally the most popular songs and most accepted by the listeners. This means in order for artists to be successful and create songs that people like they need to adjust to what people want. The major steps in the project to answer this question was getting the top 100 billboard songs from 1970-2021 and getting the number of times the title was in the lyrics. With all the data we were able to visualize various statistics, which aid in answering the question. "
   ]
  },
  {
   "cell_type": "markdown",
   "metadata": {},
   "source": [
    "\n",
    "# Methodology #\n",
    "What information did you get from this data that you used in the presentation of your results?\n",
    "\n",
    "\n",
    "\n",
    "When answering this question we need two crucial pieces of data: The song title in the top 100 billboard and the lyrics of that song. We also wanted more data of the songs because this would allow us to compare and analyze the data more effectively. These extra data points were the year the song was in the top 100 billboard and it's rank. The first data we needed to collect was the song titles. After looking at a few APIs we decided to scrape the data from Wikipedia because it had all the data we wanted and a good range of years for the data. We scraped the data by installing the python Wikipedia library and then searching the individual pages of \"Billboard Year-End Hot 100 singles of (year)\", where year was our input to scrape different years at a time. This function only does one year at a time. "
   ]
  },
  {
   "cell_type": "code",
   "execution_count": null,
   "metadata": {},
   "outputs": [],
   "source": [
    "import wikipedia\n",
    "def create_song_list(year):\n",
    "    page_title = \"Billboard Year-End Hot 100 singles of \" + str(year)\n",
    "    page = wikipedia.page(title=(page_title), auto_suggest=False)\n",
    "    full_html = page.html()\n",
    "\n",
    "    table_start_index = full_html.find(\"wikitable sortable\")\n",
    "    table = full_html[table_start_index:]\n",
    "    table = table[0:table.find(\"</tbody></table>\")]"
   ]
  },
  {
   "cell_type": "markdown",
   "metadata": {},
   "source": [
    "Once we had the location of the data we wanted on the page, we then were able to loop through the data and store it as a list. We also had to fix special characters to make all the titles in the same style. This only runs through one page and is in the previous code block's function. "
   ]
  },
  {
   "cell_type": "code",
   "execution_count": null,
   "metadata": {},
   "outputs": [],
   "source": [
    "song_list = []\n",
    "for i in range(1, 400, 4):\n",
    "        title_line = line_list[i]\n",
    "        if \"wiki\" in title_line:\n",
    "            title = title_line[title_line.find(\"title=\") + 7:]\n",
    "            title = title[0:title.find(\"\\\"\")]\n",
    "        else:\n",
    "            title = title_line[title_line.find(\"\\\"\") + 1:]\n",
    "            title = title[0:title.find(\"\\\"\")]\n",
    "\n",
    "        artist_line = line_list[i+1]\n",
    "        if \"wiki\" in artist_line:\n",
    "            artist = artist_line[artist_line.find(\"title=\") + 7:]\n",
    "            artist = artist[0:artist.find(\"\\\"\")]\n",
    "        else:\n",
    "            artist = artist_line[artist_line.find(\"<td>\") + 4:]\n",
    "        song_list.append([title, artist])\n",
    "\n",
    "    return song_list"
   ]
  },
  {
   "cell_type": "markdown",
   "metadata": {},
   "source": [
    "Once, we were able to get the data from one wikipedia page, we were able to run the entire range of years we wanted data from, which was the entire range the wikipedia page contained."
   ]
  },
  {
   "cell_type": "code",
   "execution_count": null,
   "metadata": {},
   "outputs": [],
   "source": [
    "def get_all_top_songs(start, end):\n",
    "    song_list = [str(start)]\n",
    "    for i in range(start, end + 1):\n",
    "        song_list.append(create_song_list(i))\n",
    "    return song_list"
   ]
  },
  {
   "cell_type": "markdown",
   "metadata": {},
   "source": [
    "Now that we had a list that contained all the data we wanted from wikipedia we wrote that list to a CSV file. This would allow us to store the data and see the data easily. We wrote the list to songs.csv."
   ]
  },
  {
   "cell_type": "code",
   "execution_count": null,
   "metadata": {},
   "outputs": [],
   "source": [
    "def write_songs_to_file(song_list):\n",
    "    with open(\"songs.csv\", \"w\") as my_file:\n",
    "        writer = csv.writer(my_file)\n",
    "        writer.writerow([\"Title\", \"Artist\", \"Year\", \"Rank\"])\n",
    "        year_number = int(song_list[0])\n",
    "        song_list = song_list[1:]\n",
    "        for year in song_list:\n",
    "            for index, song in enumerate(year):\n",
    "                writer.writerow([song[0], song[1], year_number, index + 1])\n",
    "            year_number += 1"
   ]
  },
  {
   "cell_type": "markdown",
   "metadata": {},
   "source": [
    "This was a collection of all the data we needed from Wikipedia and it contained the title, artist, year, and rank of each song. We got a total of 5200 songs. \n"
   ]
  },
  {
   "cell_type": "markdown",
   "metadata": {},
   "source": [
    "With this data from Wikipedia we next needed to get the lyrics of the songs. We achieved this by using the website Genius.com. Before we could scrape this data we needed to convert the csv file containing the data from Wikipedia into a list. Then, we had to adjust the style of the titles and artists of the songs to match the Genius url styles. We used the imports beautifulsoup and requests to access the genius websites and retrieve the data. For each song we inputted the song title and artist name into the url and looped that for each song. This worked because the url for each song was identical ignoring the title and artist portions. We used the requests import to actually get the page. The function below retieves the page for a single song. "
   ]
  },
  {
   "cell_type": "code",
   "execution_count": null,
   "metadata": {},
   "outputs": [],
   "source": [
    "def get_lyrics(song):\n",
    "    url = \"https://genius.com/\" + song[1] + \"-\" + song[0] + \"-\" + \"lyrics\"\n",
    "    page = requests.get(url)\n",
    "    if str(page) == \"<Response [404]>\":\n",
    "        alt_artist = song[1][0:song[1].find(\"-\")]\n",
    "        page = requests.get(\"https://genius.com/\" + alt_artist + \"-\" +\n",
    "                            song[0] + \"-\" + \"lyrics\")\n"
   ]
  },
  {
   "cell_type": "markdown",
   "metadata": {},
   "source": [
    "In the same function as the above code block, we then used the html parser beautifulsoup to pick the pieces of the website we wanted, which was only the lyrical portions. Then, we added the lyrics to a string."
   ]
  },
  {
   "cell_type": "code",
   "execution_count": null,
   "metadata": {},
   "outputs": [],
   "source": [
    "html = BeautifulSoup(page.text, \"html.parser\")\n",
    "    lyrics = html.find_all(\"div\",\n",
    "                           class_=\"Lyrics__Container-sc-1ynbvzw-6 jYfhrf\")\n",
    "    if not lyrics:\n",
    "        lyrics = html.find_all(\"div\", class_=\"lyrics\")\n",
    "    if not lyrics:\n",
    "        lyrics = html.find(\"div\",\n",
    "                           class_=\"Lyrics__Container-sc-1ynbvzw-2 jgQsqn\")\n",
    "    final_lyrics = \"\"\n",
    "    if lyrics:\n",
    "        for item in lyrics:\n",
    "            final_lyrics += \" \".join(item.strings)\n",
    "\n",
    "    return final_lyrics"
   ]
  },
  {
   "cell_type": "markdown",
   "metadata": {},
   "source": [
    "We did the process of retieving the lyrics from Genius for every song we had with the function get_all_lyrics."
   ]
  },
  {
   "cell_type": "code",
   "execution_count": null,
   "metadata": {},
   "outputs": [],
   "source": [
    "def get_all_lyrics():\n",
    "    song_list = csv_to_list(\"songs.csv\")\n",
    "    songs = format_list_for_genius(song_list)\n",
    "    lyrics = []\n",
    "    for song in songs:\n",
    "        lyrics.append(get_lyrics(song))\n",
    "    return lyrics"
   ]
  },
  {
   "cell_type": "markdown",
   "metadata": {},
   "source": [
    "After we collected all the data from Genius, we realized that we missed some of the songs. We were missing 3.79% of the lyrics because the title or artist name was different than what was on the Wikipedia page. We decided this error was low enough to not continue, but to minimize the error we took the artists with the most songs in the top 100 billboard rankings that we weren't scraping and hard coded them in to get more songs."
   ]
  },
  {
   "cell_type": "code",
   "execution_count": 1,
   "metadata": {},
   "outputs": [],
   "source": [
    "# percentage of songs we don't have lyrics for\n",
    "song_list_by_song = get_total_song_data(\"songs_with_lyrics.csv\", by_song=True)\n",
    "count = 0\n",
    "for song in song_list_by_song:\n",
    "    if song[4] == -1:\n",
    "        count += 1\n",
    "print(str(round(count/52, 2)) + \"%\")"
   ]
  },
  {
   "cell_type": "markdown",
   "metadata": {},
   "source": [
    "We then added the lyrics to a list containing all the song information. This list contains every songs information and lyrics. We used this list to write the data to another CSV file to store the data. This file is called songs_with_lyrics.csv. "
   ]
  },
  {
   "cell_type": "code",
   "execution_count": null,
   "metadata": {},
   "outputs": [],
   "source": [
    "def write_lyrics_to_file():\n",
    "    song_list = song_list_with_lyrics()\n",
    "    with open(\"songs_with_lyrics.csv\", \"w\") as my_file:\n",
    "        writer = csv.writer(my_file)\n",
    "        writer.writerow([\"Title\", \"Artist\", \"Year\", \"Rank\", \"Lyrics\"])\n",
    "        for song in song_list:\n",
    "            writer.writerow(song)"
   ]
  },
  {
   "cell_type": "markdown",
   "metadata": {},
   "source": [
    "At this point, we had all the scraping data we wanted and needed to analyze for our question. The last thing we needed was to get the frequency of each song's title within its lyrics. This was done by simply taking the title and counting how many times it appears within the lyrics. If the song was one of the songs we weren't able to retrieve lyrics for we set it's frequency to -1. The function below does this process for one song."
   ]
  },
  {
   "cell_type": "code",
   "execution_count": null,
   "metadata": {},
   "outputs": [],
   "source": [
    "def title_in_lyrics_one_song(song):\n",
    "    title = song[0]\n",
    "    lyrics = song[4]\n",
    "    if '(' in title:\n",
    "        title = title[0:title.find(\"(\") - 1]\n",
    "    if len(lyrics) == 0:\n",
    "        return -1\n",
    "    return lyrics.lower().count(title.lower())"
   ]
  },
  {
   "cell_type": "markdown",
   "metadata": {},
   "source": [
    "We then did this process for every song we had and added the frequencies of song titles in lyrics to the total song data list. "
   ]
  },
  {
   "cell_type": "code",
   "execution_count": null,
   "metadata": {},
   "outputs": [],
   "source": [
    "def get_total_song_data(path, by_song=False):\n",
    "    total_song_data = []\n",
    "    song_list = csv_to_list(path)\n",
    "    if by_song:\n",
    "        for song in song_list:\n",
    "            total_song_data.append([song[0], song[1], song[2], song[3],\n",
    "                                    title_in_lyrics_one_song(song)])\n",
    "    else:\n",
    "        titles = []\n",
    "        artists = []\n",
    "        years = []\n",
    "        ranks = []\n",
    "        frequencies = []\n",
    "        for song in song_list:\n",
    "            titles.append(song[0])\n",
    "            artists.append(song[1])\n",
    "            years.append(song[2])\n",
    "            ranks.append(song[3])\n",
    "            frequencies.append(title_in_lyrics_one_song(song))\n",
    "        total_song_data = [titles, artists, years, ranks, frequencies]\n",
    "\n",
    "    return total_song_data"
   ]
  },
  {
   "cell_type": "code",
   "execution_count": 2,
   "metadata": {},
   "outputs": [],
   "source": [
    "# import data using finder\n",
    "import matplotlib.pyplot as plt\n",
    "from finder import get_total_song_data\n",
    "song_list = get_total_song_data(\"songs_with_lyrics.csv\") #[Title, Artist, Year, Rank, Frequency]\n",
    "titles = song_list[0]\n",
    "artists = song_list[1]\n",
    "possible_rankings = list(range(1, 101))\n",
    "possible_years = list(range(1970, 2022))\n",
    "frequencies = song_list[4]"
   ]
  },
  {
   "cell_type": "code",
   "execution_count": 26,
   "metadata": {},
   "outputs": [
    {
     "data": {
      "text/plain": [
       "Text(0.5, 1.0, 'Average Mentions by Ranking')"
      ]
     },
     "execution_count": 26,
     "metadata": {},
     "output_type": "execute_result"
    },
    {
     "data": {
      "image/png": "[encoded data removed]",
      "text/plain": [
       "<Figure size 432x288 with 1 Axes>"
      ]
     },
     "metadata": {
      "needs_background": "light"
     },
     "output_type": "display_data"
    }
   ],
   "source": [
    "average_frequencies = []\n",
    "for i in range(100):\n",
    "    total_mentions = 0\n",
    "    for j in range(i, 5200, 100):\n",
    "        if frequencies[j] != -1:\n",
    "            total_mentions += frequencies[j]\n",
    "    average_frequencies.append(round(total_mentions/52, 2))\n",
    "    \n",
    "plt.bar(possible_rankings, average_frequencies, width=0.655)\n",
    "plt.title(\"Average Mentions by Ranking\")"
   ]
  },
  {
   "cell_type": "code",
   "execution_count": 5,
   "metadata": {},
   "outputs": [
    {
     "data": {
      "text/plain": [
       "Text(0.5, 1.0, 'Average Mentions by Year')"
      ]
     },
     "execution_count": 5,
     "metadata": {},
     "output_type": "execute_result"
    },
    {
     "data": {
      "image/png": "[encoded data removed]",
      "text/plain": [
       "<Figure size 432x288 with 1 Axes>"
      ]
     },
     "metadata": {
      "needs_background": "light"
     },
     "output_type": "display_data"
    }
   ],
   "source": [
    "frequency_by_year = []\n",
    "for i in range(0, 5200, 100):\n",
    "    mention_count = 0\n",
    "    for j in range(i, i+ 100):\n",
    "        if frequencies[j] != -1:\n",
    "            mention_count += frequencies[j]\n",
    "    frequency_by_year.append(round(mention_count/100, 2))\n",
    "\n",
    "plt.bar(possible_years, frequency_by_year)\n",
    "plt.title(\"Average Mentions by Year\")"
   ]
  },
  {
   "cell_type": "code",
   "execution_count": 7,
   "metadata": {},
   "outputs": [
    {
     "name": "stdout",
     "output_type": "stream",
     "text": [
      "[1970, 1980, 1990, 2000, 2010]\n",
      "[8.15, 10.38, 9.99, 10.99, 11.76]\n"
     ]
    },
    {
     "data": {
      "text/plain": [
       "Text(0.5, 1.0, 'Average Mentions by Decade')"
      ]
     },
     "execution_count": 7,
     "metadata": {},
     "output_type": "execute_result"
    },
    {
     "data": {
      "image/png": "[encoded data removed]",
      "text/plain": [
       "<Figure size 432x288 with 1 Axes>"
      ]
     },
     "metadata": {
      "needs_background": "light"
     },
     "output_type": "display_data"
    }
   ],
   "source": [
    "frequency_by_decade = []\n",
    "for i in range(5):\n",
    "    frequency_by_decade.append(round(sum(frequency_by_year[10*i:10*i + 10])/10, 2))\n",
    "\n",
    "possible_decades = list(range(1970, 2020, 10))\n",
    "print(possible_decades)\n",
    "print(frequency_by_decade)\n",
    "plt.bar(possible_decades, frequency_by_decade)\n",
    "plt.title(\"Average Mentions by Decade\")"
   ]
  },
  {
   "cell_type": "code",
   "execution_count": 8,
   "metadata": {},
   "outputs": [
    {
     "data": {
      "text/plain": [
       "Text(0.5, 1.0, 'Mentions in Number One Song by Year')"
      ]
     },
     "execution_count": 8,
     "metadata": {},
     "output_type": "execute_result"
    },
    {
     "data": {
      "image/png": "[encoded data removed]",
      "text/plain": [
       "<Figure size 432x288 with 1 Axes>"
      ]
     },
     "metadata": {
      "needs_background": "light"
     },
     "output_type": "display_data"
    }
   ],
   "source": [
    "number_one_song_frequencies = []\n",
    "for i in range(52):\n",
    "    number_one_song_frequencies.append(frequencies[100*i])\n",
    "\n",
    "plt.bar(possible_years, number_one_song_frequencies)\n",
    "plt.title(\"Mentions in Number One Song by Year\")"
   ]
  },
  {
   "cell_type": "code",
   "execution_count": 9,
   "metadata": {},
   "outputs": [
    {
     "data": {
      "text/plain": [
       "Text(0.5, 1.0, 'Maximum Mentions in a Song by Year')"
      ]
     },
     "execution_count": 9,
     "metadata": {},
     "output_type": "execute_result"
    },
    {
     "data": {
      "image/png": "[encoded data removed]",
      "text/plain": [
       "<Figure size 432x288 with 1 Axes>"
      ]
     },
     "metadata": {
      "needs_background": "light"
     },
     "output_type": "display_data"
    }
   ],
   "source": [
    "maximum_song_frequency_by_year = []\n",
    "for i in range(52):\n",
    "    maximum_song_frequency_by_year.append(max(frequencies[100*i: 100*i + 100]))\n",
    "    \n",
    "plt.bar(possible_years, maximum_song_frequency_by_year)\n",
    "plt.title(\"Maximum Mentions in a Song by Year\")"
   ]
  },
  {
   "cell_type": "code",
   "execution_count": 10,
   "metadata": {},
   "outputs": [
    {
     "data": {
      "text/plain": [
       "Text(0.5, 1.0, 'Percent Mentions of Title in Songs by Year')"
      ]
     },
     "execution_count": 10,
     "metadata": {},
     "output_type": "execute_result"
    },
    {
     "data": {
      "image/png": "[encoded data removed]",
      "text/plain": [
       "<Figure size 432x288 with 1 Axes>"
      ]
     },
     "metadata": {
      "needs_background": "light"
     },
     "output_type": "display_data"
    }
   ],
   "source": [
    "percent_mentions_by_year = []\n",
    "for i in range(52):\n",
    "    number_mentioned_in_year = 0\n",
    "    for j in range(100):\n",
    "        if frequencies[100*i+j] > 0:\n",
    "            number_mentioned_in_year += 1\n",
    "    percent_mentions_by_year.append(number_mentioned_in_year)\n",
    "\n",
    "plt.bar(possible_years, percent_mentions_by_year)\n",
    "plt.title(\"Percent Mentions of Title in Songs by Year\")"
   ]
  },
  {
   "cell_type": "code",
   "execution_count": 65,
   "metadata": {},
   "outputs": [
    {
     "name": "stdout",
     "output_type": "stream",
     "text": [
      "Top twenty songs where the title is mentioned the most:\n",
      "1. \"O\" by Omarion (198 mentions)\n",
      "2. \"Down\" by Marian Hill (176 mentions)\n",
      "3. \"Who Dat\" by JT Money (118 mentions)\n",
      "4. \"Baby\" by Ashanti (114 mentions)\n",
      "5. \"Thunder\" by Imagine Dragons (113 mentions)\n",
      "6. \"Walk It Out\" by Unk (112 mentions)\n",
      "7. \"My ****\" by YG (100 mentions)\n",
      "8. \"Jump\" by Kris Kross (92 mentions)\n",
      "9. \"Bad\" by Michael Jackson (88 mentions)\n",
      "10. \"Baby\" by Brandy Norwood (86 mentions)\n",
      "11. \"Say\" by John Mayer (83 mentions)\n",
      "12. \"Watch Me (Whip/Nae Nae)\" by Silentó (83 mentions)\n",
      "13. \"Work\" by Rihanna (80 mentions)\n",
      "14. \"Get Down on It\" by Kool & the Gang (78 mentions)\n",
      "15. \"Taste\" by Tyga (77 mentions)\n",
      "16. \"Why\" by Jadakiss (76 mentions)\n",
      "17. \"No\" by Meghan Trainor (75 mentions)\n",
      "18. \"Stutter\" by Joe (74 mentions)\n",
      "19. \"Call Me\" by Blondie (73 mentions)\n",
      "20. \"Doin' It\" by LL Cool J (73 mentions)\n"
     ]
    }
   ],
   "source": [
    "from better_profanity import profanity\n",
    "freq_temp = frequencies.copy()\n",
    "print(\"Top twenty songs where the title is mentioned the most:\")\n",
    "previous_title = None\n",
    "count = 0\n",
    "while count < 20:\n",
    "    mfi = freq_temp.index(max(freq_temp))\n",
    "    if titles[mfi] != previous_title:\n",
    "        print(f\"{count + 1}. \\\"{profanity.censor(titles[mfi])}\\\" by {artists[mfi]} ({max(freq_temp)} mentions)\")\n",
    "        count += 1\n",
    "    previous_title = titles[mfi]\n",
    "    freq_temp[mfi] = 0"
   ]
  },
  {
   "cell_type": "code",
   "execution_count": 33,
   "metadata": {},
   "outputs": [
    {
     "name": "stdout",
     "output_type": "stream",
     "text": [
      "Top ten artists who mention the title in the lyrics on average the most:\n",
      "(and have appeared in the top 100 more than once)\n",
      "\n",
      "1. Silentó (83.0 mentions)\n",
      "2. Omarion (66.33 mentions)\n",
      "3. Tyga (65.0 mentions)\n",
      "4. YG (58.5 mentions)\n",
      "5. Unk (57.5 mentions)\n",
      "6. Jay Sean (55.67 mentions)\n",
      "7. O.T. Genasis (48.0 mentions)\n",
      "8. D'Angelo (45.0 mentions)\n",
      "9. Ella Mai (43.67 mentions)\n",
      "10. Los del Río (43.0 mentions)\n"
     ]
    }
   ],
   "source": [
    "artists_and_mentions = {}\n",
    "for i in range(5200):\n",
    "    if artists[i] not in artists_and_mentions:\n",
    "        artists_and_mentions[artists[i]] = [frequencies[i], 1]\n",
    "    else:\n",
    "        artists_and_mentions[artists[i]][0] += frequencies[i]\n",
    "        artists_and_mentions[artists[i]][1] += 1\n",
    "for musician in artists_and_mentions:\n",
    "    artists_and_mentions[musician].append(round(artists_and_mentions[musician][0]/artists_and_mentions[musician][1], 2))\n",
    "    \n",
    "a_and_m = artists_and_mentions.copy()\n",
    "print(\"Top ten artists who mention the title in the lyrics on average the most:\")\n",
    "print(\"(and have appeared in the top 100 more than once)\\n\")\n",
    "for i in range(10):\n",
    "    max_number = None\n",
    "    max_artist = None\n",
    "    for musician in a_and_m:\n",
    "        if max_number is None or a_and_m[musician][2]  > max_number and a_and_m[musician][1] > 1:\n",
    "            max_artist = musician\n",
    "            max_number = a_and_m[musician][2]\n",
    "    print(f\"{i+1}. {max_artist} ({max_number} mentions)\")\n",
    "    a_and_m[max_artist][2] = 0"
   ]
  },
  {
   "cell_type": "code",
   "execution_count": 75,
   "metadata": {},
   "outputs": [
    {
     "data": {
      "text/plain": [
       "Text(0.5, 1.0, 'Percentage of Songs Where Title Is Mentioned in Lyrics')"
      ]
     },
     "execution_count": 75,
     "metadata": {},
     "output_type": "execute_result"
    },
    {
     "data": {
      "image/png": "[encoded data removed]",
      "text/plain": [
       "<Figure size 432x288 with 1 Axes>"
      ]
     },
     "metadata": {},
     "output_type": "display_data"
    }
   ],
   "source": [
    "total_mentions_all_years = sum(percent_mentions_by_year)\n",
    "pie_elements = [total_mentions_all_years, 5200 - total_mentions_all_years]\n",
    "colors = [\"#ff9999\", \"#66b3ff\"]\n",
    "labels = {\"Title Mentioned\", \"Title Not Mentioned\"}\n",
    "plt.pie(pie_elements, labels=labels, colors=colors, autopct=\"%1.1f%%\", startangle = 90)\n",
    "plt.title(\"Percentage of Songs Where Title Is Mentioned in Lyrics\")"
   ]
  },
  {
   "cell_type": "code",
   "execution_count": 71,
   "metadata": {},
   "outputs": [
    {
     "data": {
      "text/plain": [
       "<BarContainer object of 198 artists>"
      ]
     },
     "execution_count": 71,
     "metadata": {},
     "output_type": "execute_result"
    },
    {
     "data": {
      "image/png": "[encoded data removed]",
      "text/plain": [
       "<Figure size 432x288 with 1 Axes>"
      ]
     },
     "metadata": {
      "needs_background": "light"
     },
     "output_type": "display_data"
    }
   ],
   "source": [
    "frequency_list = []\n",
    "possible_frequencies = list(range(max(frequencies)))\n",
    "for i in range(max(frequencies)):\n",
    "    frequency_list.append(frequencies.count(i))\n",
    "plt.bar(possible_frequencies, frequency_list)"
   ]
  },
  {
   "cell_type": "code",
   "execution_count": 72,
   "metadata": {},
   "outputs": [
    {
     "data": {
      "text/plain": [
       "<BarContainer object of 50 artists>"
      ]
     },
     "execution_count": 72,
     "metadata": {},
     "output_type": "execute_result"
    },
    {
     "data": {
      "image/png": "[encoded data removed]",
      "text/plain": [
       "<Figure size 432x288 with 1 Axes>"
      ]
     },
     "metadata": {
      "needs_background": "light"
     },
     "output_type": "display_data"
    }
   ],
   "source": [
    "plt.bar(possible_frequencies[0:50], frequency_list[0:50])"
   ]
  },
  {
   "cell_type": "code",
   "execution_count": null,
   "metadata": {},
   "outputs": [],
   "source": []
  }
 ],
 "metadata": {
  "interpreter": {
   "hash": "295f73e107853268d0b5c2622830787fb006f3b866a2060fba4c63bf5af5613f"
  },
  "kernelspec": {
   "display_name": "Python 3 (ipykernel)",
   "language": "python",
   "name": "python3"
  },
  "language_info": {
   "codemirror_mode": {
    "name": "ipython",
    "version": 3
   },
   "file_extension": ".py",
   "mimetype": "text/x-python",
   "name": "python",
   "nbconvert_exporter": "python",
   "pygments_lexer": "ipython3",
   "version": "3.9.7"
  }
 },
 "nbformat": 4,
 "nbformat_minor": 4
}
