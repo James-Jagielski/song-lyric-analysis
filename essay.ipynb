{
 "cells": [
  {
   "cell_type": "markdown",
   "metadata": {},
   "source": [
    "Question: How does the frequency of song title in lyrics effect top 100 billboard ranking?"
   ]
  }
 ],
 "metadata": {
  "interpreter": {
   "hash": "295f73e107853268d0b5c2622830787fb006f3b866a2060fba4c63bf5af5613f"
  },
  "kernelspec": {
   "display_name": "Python 3 (ipykernel)",
   "language": "python",
   "name": "python3"
  },
  "language_info": {
   "codemirror_mode": {
    "name": "ipython",
    "version": 3
   },
   "file_extension": ".py",
   "mimetype": "text/x-python",
   "name": "python",
   "nbconvert_exporter": "python",
   "pygments_lexer": "ipython3",
   "version": "3.9.7"
  }
 },
 "nbformat": 4,
 "nbformat_minor": 2
}
